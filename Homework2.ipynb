{
 "cells": [
  {
   "cell_type": "markdown",
   "id": "ea49efc3-67ec-4dcf-aae0-2acf6f71802f",
   "metadata": {},
   "source": [
    "# Homework 2"
   ]
  },
  {
   "cell_type": "code",
   "execution_count": 1,
   "id": "4f5331e7-0832-4765-82c5-748c0e7da294",
   "metadata": {},
   "outputs": [],
   "source": [
    "import pandas as pd\n",
    "import numpy as np\n",
    "import matplotlib.pyplot as plt\n",
    "import seaborn as sns\n",
    "import sklearn"
   ]
  },
  {
   "cell_type": "code",
   "execution_count": 2,
   "id": "ed0a07b8-7cb8-47f3-9f9c-e6cfb7b5373b",
   "metadata": {},
   "outputs": [],
   "source": [
    "# Read the data\n",
    "data = pd.read_csv(\"data.csv\")"
   ]
  },
  {
   "cell_type": "code",
   "execution_count": 3,
   "id": "a371a9c9-4c73-4107-9ae4-9adf88dc2ba6",
   "metadata": {},
   "outputs": [
    {
     "data": {
      "text/html": [
       "<div>\n",
       "<style scoped>\n",
       "    .dataframe tbody tr th:only-of-type {\n",
       "        vertical-align: middle;\n",
       "    }\n",
       "\n",
       "    .dataframe tbody tr th {\n",
       "        vertical-align: top;\n",
       "    }\n",
       "\n",
       "    .dataframe thead th {\n",
       "        text-align: right;\n",
       "    }\n",
       "</style>\n",
       "<table border=\"1\" class=\"dataframe\">\n",
       "  <thead>\n",
       "    <tr style=\"text-align: right;\">\n",
       "      <th></th>\n",
       "      <th>longitude</th>\n",
       "      <th>latitude</th>\n",
       "      <th>housing_median_age</th>\n",
       "      <th>total_rooms</th>\n",
       "      <th>total_bedrooms</th>\n",
       "      <th>population</th>\n",
       "      <th>households</th>\n",
       "      <th>median_income</th>\n",
       "      <th>median_house_value</th>\n",
       "      <th>ocean_proximity</th>\n",
       "    </tr>\n",
       "  </thead>\n",
       "  <tbody>\n",
       "    <tr>\n",
       "      <th>0</th>\n",
       "      <td>-122.23</td>\n",
       "      <td>37.88</td>\n",
       "      <td>41.0</td>\n",
       "      <td>880.0</td>\n",
       "      <td>129.0</td>\n",
       "      <td>322.0</td>\n",
       "      <td>126.0</td>\n",
       "      <td>8.3252</td>\n",
       "      <td>452600.0</td>\n",
       "      <td>NEAR BAY</td>\n",
       "    </tr>\n",
       "    <tr>\n",
       "      <th>1</th>\n",
       "      <td>-122.22</td>\n",
       "      <td>37.86</td>\n",
       "      <td>21.0</td>\n",
       "      <td>7099.0</td>\n",
       "      <td>1106.0</td>\n",
       "      <td>2401.0</td>\n",
       "      <td>1138.0</td>\n",
       "      <td>8.3014</td>\n",
       "      <td>358500.0</td>\n",
       "      <td>NEAR BAY</td>\n",
       "    </tr>\n",
       "    <tr>\n",
       "      <th>2</th>\n",
       "      <td>-122.24</td>\n",
       "      <td>37.85</td>\n",
       "      <td>52.0</td>\n",
       "      <td>1467.0</td>\n",
       "      <td>190.0</td>\n",
       "      <td>496.0</td>\n",
       "      <td>177.0</td>\n",
       "      <td>7.2574</td>\n",
       "      <td>352100.0</td>\n",
       "      <td>NEAR BAY</td>\n",
       "    </tr>\n",
       "    <tr>\n",
       "      <th>3</th>\n",
       "      <td>-122.25</td>\n",
       "      <td>37.85</td>\n",
       "      <td>52.0</td>\n",
       "      <td>1274.0</td>\n",
       "      <td>235.0</td>\n",
       "      <td>558.0</td>\n",
       "      <td>219.0</td>\n",
       "      <td>5.6431</td>\n",
       "      <td>341300.0</td>\n",
       "      <td>NEAR BAY</td>\n",
       "    </tr>\n",
       "    <tr>\n",
       "      <th>4</th>\n",
       "      <td>-122.25</td>\n",
       "      <td>37.85</td>\n",
       "      <td>52.0</td>\n",
       "      <td>1627.0</td>\n",
       "      <td>280.0</td>\n",
       "      <td>565.0</td>\n",
       "      <td>259.0</td>\n",
       "      <td>3.8462</td>\n",
       "      <td>342200.0</td>\n",
       "      <td>NEAR BAY</td>\n",
       "    </tr>\n",
       "  </tbody>\n",
       "</table>\n",
       "</div>"
      ],
      "text/plain": [
       "   longitude  latitude  housing_median_age  total_rooms  total_bedrooms  \\\n",
       "0    -122.23     37.88                41.0        880.0           129.0   \n",
       "1    -122.22     37.86                21.0       7099.0          1106.0   \n",
       "2    -122.24     37.85                52.0       1467.0           190.0   \n",
       "3    -122.25     37.85                52.0       1274.0           235.0   \n",
       "4    -122.25     37.85                52.0       1627.0           280.0   \n",
       "\n",
       "   population  households  median_income  median_house_value ocean_proximity  \n",
       "0       322.0       126.0         8.3252            452600.0        NEAR BAY  \n",
       "1      2401.0      1138.0         8.3014            358500.0        NEAR BAY  \n",
       "2       496.0       177.0         7.2574            352100.0        NEAR BAY  \n",
       "3       558.0       219.0         5.6431            341300.0        NEAR BAY  \n",
       "4       565.0       259.0         3.8462            342200.0        NEAR BAY  "
      ]
     },
     "execution_count": 3,
     "metadata": {},
     "output_type": "execute_result"
    }
   ],
   "source": [
    "# Take a look at the data\n",
    "data.head()"
   ]
  },
  {
   "cell_type": "code",
   "execution_count": 4,
   "id": "289c3a67-49b6-4169-959f-bf8689a158ff",
   "metadata": {},
   "outputs": [
    {
     "data": {
      "text/plain": [
       "<AxesSubplot:xlabel='median_house_value', ylabel='Count'>"
      ]
     },
     "execution_count": 4,
     "metadata": {},
     "output_type": "execute_result"
    },
    {
     "data": {
      "image/png": "[encoded data removed]",
      "text/plain": [
       "<Figure size 432x288 with 1 Axes>"
      ]
     },
     "metadata": {
      "needs_background": "light"
     },
     "output_type": "display_data"
    }
   ],
   "source": [
    "# Explore target variable\n",
    "sns.histplot(data = data, x = \"median_house_value\")"
   ]
  },
  {
   "cell_type": "code",
   "execution_count": 5,
   "id": "46c3378d-4540-40a2-bd20-25425e5cc4fc",
   "metadata": {},
   "outputs": [],
   "source": [
    "# Select relevant features\n",
    "data = data.iloc[:, :-1].copy()"
   ]
  },
  {
   "cell_type": "code",
   "execution_count": 6,
   "id": "395653ca-8817-4e5b-a35d-955a9bf1d0aa",
   "metadata": {},
   "outputs": [
    {
     "data": {
      "text/html": [
       "<div>\n",
       "<style scoped>\n",
       "    .dataframe tbody tr th:only-of-type {\n",
       "        vertical-align: middle;\n",
       "    }\n",
       "\n",
       "    .dataframe tbody tr th {\n",
       "        vertical-align: top;\n",
       "    }\n",
       "\n",
       "    .dataframe thead th {\n",
       "        text-align: right;\n",
       "    }\n",
       "</style>\n",
       "<table border=\"1\" class=\"dataframe\">\n",
       "  <thead>\n",
       "    <tr style=\"text-align: right;\">\n",
       "      <th></th>\n",
       "      <th>longitude</th>\n",
       "      <th>latitude</th>\n",
       "      <th>housing_median_age</th>\n",
       "      <th>total_rooms</th>\n",
       "      <th>total_bedrooms</th>\n",
       "      <th>population</th>\n",
       "      <th>households</th>\n",
       "      <th>median_income</th>\n",
       "      <th>median_house_value</th>\n",
       "    </tr>\n",
       "  </thead>\n",
       "  <tbody>\n",
       "    <tr>\n",
       "      <th>0</th>\n",
       "      <td>-122.23</td>\n",
       "      <td>37.88</td>\n",
       "      <td>41.0</td>\n",
       "      <td>880.0</td>\n",
       "      <td>129.0</td>\n",
       "      <td>322.0</td>\n",
       "      <td>126.0</td>\n",
       "      <td>8.3252</td>\n",
       "      <td>452600.0</td>\n",
       "    </tr>\n",
       "    <tr>\n",
       "      <th>1</th>\n",
       "      <td>-122.22</td>\n",
       "      <td>37.86</td>\n",
       "      <td>21.0</td>\n",
       "      <td>7099.0</td>\n",
       "      <td>1106.0</td>\n",
       "      <td>2401.0</td>\n",
       "      <td>1138.0</td>\n",
       "      <td>8.3014</td>\n",
       "      <td>358500.0</td>\n",
       "    </tr>\n",
       "    <tr>\n",
       "      <th>2</th>\n",
       "      <td>-122.24</td>\n",
       "      <td>37.85</td>\n",
       "      <td>52.0</td>\n",
       "      <td>1467.0</td>\n",
       "      <td>190.0</td>\n",
       "      <td>496.0</td>\n",
       "      <td>177.0</td>\n",
       "      <td>7.2574</td>\n",
       "      <td>352100.0</td>\n",
       "    </tr>\n",
       "    <tr>\n",
       "      <th>3</th>\n",
       "      <td>-122.25</td>\n",
       "      <td>37.85</td>\n",
       "      <td>52.0</td>\n",
       "      <td>1274.0</td>\n",
       "      <td>235.0</td>\n",
       "      <td>558.0</td>\n",
       "      <td>219.0</td>\n",
       "      <td>5.6431</td>\n",
       "      <td>341300.0</td>\n",
       "    </tr>\n",
       "    <tr>\n",
       "      <th>4</th>\n",
       "      <td>-122.25</td>\n",
       "      <td>37.85</td>\n",
       "      <td>52.0</td>\n",
       "      <td>1627.0</td>\n",
       "      <td>280.0</td>\n",
       "      <td>565.0</td>\n",
       "      <td>259.0</td>\n",
       "      <td>3.8462</td>\n",
       "      <td>342200.0</td>\n",
       "    </tr>\n",
       "  </tbody>\n",
       "</table>\n",
       "</div>"
      ],
      "text/plain": [
       "   longitude  latitude  housing_median_age  total_rooms  total_bedrooms  \\\n",
       "0    -122.23     37.88                41.0        880.0           129.0   \n",
       "1    -122.22     37.86                21.0       7099.0          1106.0   \n",
       "2    -122.24     37.85                52.0       1467.0           190.0   \n",
       "3    -122.25     37.85                52.0       1274.0           235.0   \n",
       "4    -122.25     37.85                52.0       1627.0           280.0   \n",
       "\n",
       "   population  households  median_income  median_house_value  \n",
       "0       322.0       126.0         8.3252            452600.0  \n",
       "1      2401.0      1138.0         8.3014            358500.0  \n",
       "2       496.0       177.0         7.2574            352100.0  \n",
       "3       558.0       219.0         5.6431            341300.0  \n",
       "4       565.0       259.0         3.8462            342200.0  "
      ]
     },
     "execution_count": 6,
     "metadata": {},
     "output_type": "execute_result"
    }
   ],
   "source": [
    "# Take a look at the new data\n",
    "data.head()"
   ]
  },
  {
   "cell_type": "markdown",
   "id": "360630a6-753e-422d-ba6f-77f06d3c8ce0",
   "metadata": {},
   "source": [
    "## Question 1"
   ]
  },
  {
   "cell_type": "code",
   "execution_count": 7,
   "id": "cd2cba59-5f83-4a6d-9115-d2658d9242e3",
   "metadata": {},
   "outputs": [
    {
     "data": {
      "text/plain": [
       "longitude               0\n",
       "latitude                0\n",
       "housing_median_age      0\n",
       "total_rooms             0\n",
       "total_bedrooms        207\n",
       "population              0\n",
       "households              0\n",
       "median_income           0\n",
       "median_house_value      0\n",
       "dtype: int64"
      ]
     },
     "execution_count": 7,
     "metadata": {},
     "output_type": "execute_result"
    }
   ],
   "source": [
    "# Check for missing values\n",
    "data.isnull().sum()"
   ]
  },
  {
   "cell_type": "markdown",
   "id": "e1f12ba0-5dd7-47bf-b891-36f42bbe5d67",
   "metadata": {},
   "source": [
    "## Question 2"
   ]
  },
  {
   "cell_type": "code",
   "execution_count": 8,
   "id": "6e73c96e-ed4b-42e6-8121-7ed8d007662a",
   "metadata": {},
   "outputs": [
    {
     "data": {
      "text/plain": [
       "count    20640.000000\n",
       "mean      1425.476744\n",
       "std       1132.462122\n",
       "min          3.000000\n",
       "25%        787.000000\n",
       "50%       1166.000000\n",
       "75%       1725.000000\n",
       "max      35682.000000\n",
       "Name: population, dtype: float64"
      ]
     },
     "execution_count": 8,
     "metadata": {},
     "output_type": "execute_result"
    }
   ],
   "source": [
    "data[\"population\"].describe()"
   ]
  },
  {
   "cell_type": "markdown",
   "id": "dea00272-66b1-4382-b760-eca826f3410b",
   "metadata": {},
   "source": [
    "## Split the data"
   ]
  },
  {
   "cell_type": "code",
   "execution_count": 9,
   "id": "5a9d0ed5-5f94-4945-9f2d-09db15ebb990",
   "metadata": {},
   "outputs": [],
   "source": [
    "# Get the df index as an array\n",
    "idx = np.array(data.index)"
   ]
  },
  {
   "cell_type": "code",
   "execution_count": 10,
   "id": "5bbcd159-1a8a-46d5-8dd5-e61b10962b82",
   "metadata": {},
   "outputs": [],
   "source": [
    "# Shuffle the index\n",
    "np.random.seed(42)\n",
    "np.random.shuffle(idx)"
   ]
  },
  {
   "cell_type": "code",
   "execution_count": 11,
   "id": "d2be5865-ea6d-46f1-b67d-0488d2af6863",
   "metadata": {},
   "outputs": [],
   "source": [
    "# Shuffle the data\n",
    "shuffled_data = data.iloc[idx]"
   ]
  },
  {
   "cell_type": "code",
   "execution_count": 12,
   "id": "df8fe9f0-d945-4ae6-aaa7-3356590de7b9",
   "metadata": {},
   "outputs": [],
   "source": [
    "# Calculate lenght of each data segment\n",
    "len_data = len(data)\n",
    "\n",
    "len_train = int(len_data * 0.6)\n",
    "len_val = int(len_data * 0.2)\n",
    "len_test = len_data - len_train - len_val"
   ]
  },
  {
   "cell_type": "code",
   "execution_count": 13,
   "id": "82bbee9a-6a4a-400b-9018-0f185815e839",
   "metadata": {},
   "outputs": [],
   "source": [
    "# Split the data in tran/val/test\n",
    "train_data = shuffled_data.iloc[:len_train]\n",
    "val_data = shuffled_data.iloc[len_train: len_train + len_val]\n",
    "test_data = shuffled_data.iloc[len_train + len_val:]"
   ]
  },
  {
   "cell_type": "code",
   "execution_count": 14,
   "id": "02cb7ca2-0ba5-4085-98be-d368d8a32206",
   "metadata": {},
   "outputs": [],
   "source": [
    "# Split each segment into features and target\n",
    "y_train = train_data[\"median_house_value\"]\n",
    "X_train = train_data.drop(columns = \"median_house_value\")\n",
    "\n",
    "y_val = val_data[\"median_house_value\"]\n",
    "X_val = val_data.drop(columns = \"median_house_value\")\n",
    "\n",
    "y_test = test_data[\"median_house_value\"]\n",
    "X_test = test_data.drop(columns = \"median_house_value\")"
   ]
  },
  {
   "cell_type": "code",
   "execution_count": 15,
   "id": "b56dd16f-8566-44e1-a0d4-ba832858c7a8",
   "metadata": {},
   "outputs": [],
   "source": [
    "# Log transform the target variable\n",
    "y_train = np.log1p(y_train)\n",
    "y_val = np.log1p(y_val)\n",
    "y_test = np.log1p(y_test)"
   ]
  },
  {
   "cell_type": "markdown",
   "id": "37b0da23-a8af-46c9-bb85-75036b5e03a4",
   "metadata": {},
   "source": [
    "## Question 3"
   ]
  },
  {
   "cell_type": "markdown",
   "id": "0fae5c35-03ae-4ea8-a931-ed8d828a9a80",
   "metadata": {},
   "source": [
    "#### Model 1: fill null values with zeros"
   ]
  },
  {
   "cell_type": "code",
   "execution_count": 16,
   "id": "9375cc42-caf8-406b-895c-9bdb1314f737",
   "metadata": {},
   "outputs": [],
   "source": [
    "# Fill the null values with 0\n",
    "X_train1 = X_train.fillna(0)\n",
    "X_val1 = X_val.fillna(0)"
   ]
  },
  {
   "cell_type": "code",
   "execution_count": 17,
   "id": "703b2b99-0d52-4493-b550-29ae0752f3c9",
   "metadata": {},
   "outputs": [],
   "source": [
    "from sklearn.linear_model import LinearRegression\n",
    "\n",
    "# Make predictions using linear regression\n",
    "lr1 = LinearRegression()\n",
    "lr1.fit(X_train1, y_train)\n",
    "predictions1 = lr1.predict(X_val1)"
   ]
  },
  {
   "cell_type": "code",
   "execution_count": 18,
   "id": "4cad78d5-46aa-4eba-835f-f3e38c83cd89",
   "metadata": {},
   "outputs": [
    {
     "data": {
      "text/plain": [
       "0.33"
      ]
     },
     "execution_count": 18,
     "metadata": {},
     "output_type": "execute_result"
    }
   ],
   "source": [
    "from sklearn.metrics import mean_squared_error\n",
    "\n",
    "# Score the model using RMSE\n",
    "score1 = round(mean_squared_error(y_val, predictions1, squared = False), 2)\n",
    "score1"
   ]
  },
  {
   "cell_type": "markdown",
   "id": "0818bba1-c6d7-4557-a2e5-463cdf0e2ce1",
   "metadata": {},
   "source": [
    "#### Model 2: fill null values with mean"
   ]
  },
  {
   "cell_type": "code",
   "execution_count": 19,
   "id": "847bcf73-6d56-42f8-8e40-d4bb80356540",
   "metadata": {},
   "outputs": [],
   "source": [
    "# Fill the null values with 0\n",
    "X_train2 = X_train.fillna(X_train[\"total_bedrooms\"].mean())\n",
    "X_val2 = X_val.fillna(X_train[\"total_bedrooms\"].mean())"
   ]
  },
  {
   "cell_type": "code",
   "execution_count": 20,
   "id": "bda7823d-8090-4353-84ff-f3b54a7f8b94",
   "metadata": {},
   "outputs": [],
   "source": [
    "from sklearn.linear_model import LinearRegression\n",
    "\n",
    "# Make predictions using linear regression\n",
    "lr2 = LinearRegression()\n",
    "lr2.fit(X_train2, y_train)\n",
    "predictions2 = lr2.predict(X_val2)"
   ]
  },
  {
   "cell_type": "code",
   "execution_count": 21,
   "id": "03237b71-aacd-40d2-aedf-aa62735dc987",
   "metadata": {},
   "outputs": [
    {
     "data": {
      "text/plain": [
       "0.33"
      ]
     },
     "execution_count": 21,
     "metadata": {},
     "output_type": "execute_result"
    }
   ],
   "source": [
    "# Score the model using RMSE\n",
    "score2 = round(mean_squared_error(y_val, predictions2, squared = False), 2)\n",
    "score2"
   ]
  },
  {
   "cell_type": "code",
   "execution_count": 22,
   "id": "e0559564-1bee-4fc4-b350-043a8d50c1bc",
   "metadata": {},
   "outputs": [
    {
     "name": "stdout",
     "output_type": "stream",
     "text": [
      "The RMSE when we fill null values with 0 is: 0.33\n",
      "The RMSE when we fill null values with the mean is: 0.33\n"
     ]
    }
   ],
   "source": [
    "print(\"The RMSE when we fill null values with 0 is:\", score1)\n",
    "print(\"The RMSE when we fill null values with the mean is:\", score2)"
   ]
  },
  {
   "cell_type": "markdown",
   "id": "c7137417-5fdf-40d6-8597-82b7e9bc7288",
   "metadata": {},
   "source": [
    "## Question 4"
   ]
  },
  {
   "cell_type": "code",
   "execution_count": 23,
   "id": "e6a72162-d2f5-407c-a0fe-c91d7609cf94",
   "metadata": {},
   "outputs": [],
   "source": [
    "# Initializes dictionary to contain scores\n",
    "scores = {}"
   ]
  },
  {
   "cell_type": "code",
   "execution_count": 24,
   "id": "b6be4816-df8a-44e6-a002-0f995290a118",
   "metadata": {},
   "outputs": [],
   "source": [
    "# Set the list of regularization parameters\n",
    "r_values = [0, 0.000001, 0.0001, 0.001, 0.01, 0.1, 1, 5, 10]"
   ]
  },
  {
   "cell_type": "code",
   "execution_count": 25,
   "id": "0bc1e9fd-25a7-4d76-9b77-c67c11c59e99",
   "metadata": {},
   "outputs": [],
   "source": [
    "def linear_regression(xi):\n",
    "    n = len(xi)\n",
    "    \n",
    "    pred = w0\n",
    "    \n",
    "    for j in range(n):\n",
    "        pred = pred + w[j] * xi[j]\n",
    "        \n",
    "    return pred    "
   ]
  },
  {
   "cell_type": "code",
   "execution_count": 26,
   "id": "cd9932ae-d83e-4e8f-881e-dc3836ac0b04",
   "metadata": {},
   "outputs": [],
   "source": [
    "def train_linear_regression_reg(X, y, r = 0.001):\n",
    "    ones = np.ones(X.shape[0])\n",
    "    X = np.column_stack([ones, X])\n",
    "    \n",
    "    XTX = X.T @ X\n",
    "    XTX = XTX + r * np.eye(XTX.shape[0])\n",
    "    \n",
    "    XTX_inv = np.linalg.inv(XTX)\n",
    "    w_full = XTX_inv @ X.T @ y\n",
    "    \n",
    "    return w_full[0], w_full[1:]"
   ]
  },
  {
   "cell_type": "code",
   "execution_count": 27,
   "id": "1e0904b2-9bbc-471e-9c3a-598d6ee7ac95",
   "metadata": {},
   "outputs": [],
   "source": [
    "for r in r_values:\n",
    "    w0, w = train_linear_regression_reg(X_train1, y_train, r)\n",
    "    predictions = X_val1.apply(linear_regression, axis = 1)\n",
    "    score = np.round(mean_squared_error(y_val, predictions, squared = False), 2)\n",
    "    scores[r] = score"
   ]
  },
  {
   "cell_type": "code",
   "execution_count": 28,
   "id": "6a3b58c2-ac97-4a97-8c07-0c764bde2caf",
   "metadata": {},
   "outputs": [
    {
     "data": {
      "text/plain": [
       "<AxesSubplot:>"
      ]
     },
     "execution_count": 28,
     "metadata": {},
     "output_type": "execute_result"
    },
    {
     "data": {
      "image/png": "[encoded data removed]",
      "text/plain": [
       "<Figure size 432x288 with 1 Axes>"
      ]
     },
     "metadata": {
      "needs_background": "light"
     },
     "output_type": "display_data"
    }
   ],
   "source": [
    "sns.barplot(x = list(scores.keys()), y = list(scores.values()))"
   ]
  },
  {
   "cell_type": "code",
   "execution_count": 29,
   "id": "4ddd43f6-d896-4247-a00e-2e1bb8f404af",
   "metadata": {},
   "outputs": [
    {
     "name": "stdout",
     "output_type": "stream",
     "text": [
      "0\n"
     ]
    }
   ],
   "source": [
    "answer = min(scores, key = scores.get)\n",
    "print(answer)"
   ]
  },
  {
   "cell_type": "code",
   "execution_count": 30,
   "id": "219e6f2d-d9d6-4c7b-9336-a3bf610694b3",
   "metadata": {},
   "outputs": [
    {
     "data": {
      "text/plain": [
       "{0: 0.33,\n",
       " 1e-06: 0.33,\n",
       " 0.0001: 0.33,\n",
       " 0.001: 0.33,\n",
       " 0.01: 0.33,\n",
       " 0.1: 0.33,\n",
       " 1: 0.33,\n",
       " 5: 0.34,\n",
       " 10: 0.34}"
      ]
     },
     "execution_count": 30,
     "metadata": {},
     "output_type": "execute_result"
    }
   ],
   "source": [
    "scores"
   ]
  },
  {
   "cell_type": "markdown",
   "id": "5578adb6-e026-4774-943a-7948da41b80c",
   "metadata": {},
   "source": [
    "## Question 5"
   ]
  },
  {
   "cell_type": "code",
   "execution_count": 31,
   "id": "29c6bb80-7205-4684-909e-baacbaafbe03",
   "metadata": {},
   "outputs": [],
   "source": [
    "scores = []"
   ]
  },
  {
   "cell_type": "code",
   "execution_count": 32,
   "id": "25ed85d5-859b-4dda-8240-eb78143ca4f0",
   "metadata": {},
   "outputs": [],
   "source": [
    "for seed in [0, 1, 2, 3, 4, 5, 6, 7, 8, 9]:\n",
    "    idx = np.array(data.index)\n",
    "    np.random.seed(seed)\n",
    "    np.random.shuffle(idx)\n",
    "    \n",
    "    shuffled_data = data.iloc[idx]\n",
    "    \n",
    "    len_train = int(len_data * 0.6)\n",
    "    len_val = int(len_data * 0.2)\n",
    "    \n",
    "    train_data = shuffled_data.iloc[:len_train]\n",
    "    val_data = shuffled_data.iloc[len_train: len_train + len_val]\n",
    "    \n",
    "    y_train = train_data[\"median_house_value\"]\n",
    "    X_train = train_data.drop(columns = \"median_house_value\").fillna(0)\n",
    "\n",
    "    y_val = val_data[\"median_house_value\"]\n",
    "    X_val = val_data.drop(columns = \"median_house_value\").fillna(0)\n",
    "    \n",
    "    y_train = np.log1p(y_train)\n",
    "    y_val = np.log1p(y_val)\n",
    "    \n",
    "    lr = LinearRegression()\n",
    "    lr.fit(X_train, y_train)\n",
    "    predictions = lr2.predict(X_val)\n",
    "    \n",
    "    score = np.round(mean_squared_error(y_val, predictions, squared = False), 2)\n",
    "    scores.append(score)"
   ]
  },
  {
   "cell_type": "code",
   "execution_count": 33,
   "id": "6b2189ee-5a77-4750-9668-cd9dde0e7765",
   "metadata": {},
   "outputs": [
    {
     "data": {
      "text/plain": [
       "0.005385164807134491"
      ]
     },
     "execution_count": 33,
     "metadata": {},
     "output_type": "execute_result"
    }
   ],
   "source": [
    "answer = np.std(scores)\n",
    "answer"
   ]
  },
  {
   "cell_type": "markdown",
   "id": "6d33d43f-9c10-4533-a468-a930d8109199",
   "metadata": {},
   "source": [
    "## Question 6"
   ]
  },
  {
   "cell_type": "code",
   "execution_count": 34,
   "id": "32e6b2f7-cb99-4023-88b2-1af963d69c38",
   "metadata": {},
   "outputs": [],
   "source": [
    "# Get the df index as an array\n",
    "idx = np.array(data.index)"
   ]
  },
  {
   "cell_type": "code",
   "execution_count": 35,
   "id": "164d95f1-c3b1-46bc-8a45-5b3a0aa478f2",
   "metadata": {},
   "outputs": [],
   "source": [
    "# Shuffle the index\n",
    "np.random.seed(9)\n",
    "np.random.shuffle(idx)"
   ]
  },
  {
   "cell_type": "code",
   "execution_count": 36,
   "id": "41e501c4-6fab-4616-827f-afc11d017bde",
   "metadata": {},
   "outputs": [],
   "source": [
    "# Shuffle the data\n",
    "shuffled_data = data.iloc[idx]"
   ]
  },
  {
   "cell_type": "code",
   "execution_count": 37,
   "id": "d1b8d6ae-692e-4433-92f1-2540438abb73",
   "metadata": {},
   "outputs": [],
   "source": [
    "# Calculate lenght of each data segment\n",
    "len_data = len(data)\n",
    "\n",
    "len_train = int(len_data * 0.6)\n",
    "len_val = int(len_data * 0.2)\n",
    "len_test = len_data - len_train - len_val"
   ]
  },
  {
   "cell_type": "code",
   "execution_count": 38,
   "id": "afd69bcb-ae4e-4bdd-93b5-4fbc12710088",
   "metadata": {},
   "outputs": [],
   "source": [
    "# Split the data in tran/val/test\n",
    "train_data = shuffled_data.iloc[:len_val]\n",
    "test_data = shuffled_data.iloc[len_val:]"
   ]
  },
  {
   "cell_type": "code",
   "execution_count": 39,
   "id": "f7fe41ed-e872-41cd-99af-1d92c82f82b5",
   "metadata": {},
   "outputs": [],
   "source": [
    "# Split each segment into features and target\n",
    "y_train = train_data[\"median_house_value\"]\n",
    "X_train = train_data.drop(columns = \"median_house_value\").fillna(0)\n",
    "\n",
    "y_test = test_data[\"median_house_value\"]\n",
    "X_test = test_data.drop(columns = \"median_house_value\").fillna(0)"
   ]
  },
  {
   "cell_type": "code",
   "execution_count": 40,
   "id": "51394aa5-daf4-4e7d-afc6-8e5df1b6301f",
   "metadata": {},
   "outputs": [],
   "source": [
    "# Log transform the target variable\n",
    "y_train = np.log1p(y_train)\n",
    "y_test = np.log1p(y_test)"
   ]
  },
  {
   "cell_type": "code",
   "execution_count": 41,
   "id": "08a6d027-4b77-4d3b-b5f6-8b399cba72a1",
   "metadata": {},
   "outputs": [],
   "source": [
    "w0, w = train_linear_regression_reg(X_train, y_train, r = 0.001)\n",
    "predictions = X_test.apply(linear_regression, axis = 1)"
   ]
  },
  {
   "cell_type": "code",
   "execution_count": 42,
   "id": "0df9e7a4-9ed5-47bf-a991-af6f62e241cf",
   "metadata": {},
   "outputs": [
    {
     "data": {
      "text/plain": [
       "0.3422203595524887"
      ]
     },
     "execution_count": 42,
     "metadata": {},
     "output_type": "execute_result"
    }
   ],
   "source": [
    "score = mean_squared_error(y_test, predictions, squared = False)\n",
    "score"
   ]
  }
 ],
 "metadata": {
  "kernelspec": {
   "display_name": "Python 3 (ipykernel)",
   "language": "python",
   "name": "python3"
  },
  "language_info": {
   "codemirror_mode": {
    "name": "ipython",
    "version": 3
   },
   "file_extension": ".py",
   "mimetype": "text/x-python",
   "name": "python",
   "nbconvert_exporter": "python",
   "pygments_lexer": "ipython3",
   "version": "3.9.7"
  }
 },
 "nbformat": 4,
 "nbformat_minor": 5
}
