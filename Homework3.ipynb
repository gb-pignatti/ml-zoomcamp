{
 "cells": [
  {
   "cell_type": "markdown",
   "id": "c3cb9123-c63b-455f-baa6-b8514499851f",
   "metadata": {},
   "source": [
    "# Homework 3"
   ]
  },
  {
   "cell_type": "code",
   "execution_count": 1,
   "id": "bfd47431-b205-465f-8a47-293b2c8cf1f3",
   "metadata": {},
   "outputs": [],
   "source": [
    "import pandas as pd\n",
    "import numpy as np\n",
    "import matplotlib.pyplot as plt\n",
    "import seaborn as sns\n",
    "import sklearn"
   ]
  },
  {
   "cell_type": "code",
   "execution_count": 2,
   "id": "a48b16a0-e4f1-43bc-adbc-0b5d6260b2d9",
   "metadata": {},
   "outputs": [],
   "source": [
    "# Read the data\n",
    "df = pd.read_csv(\"housing.csv\")"
   ]
  },
  {
   "cell_type": "code",
   "execution_count": 3,
   "id": "ff41d52f-0527-4aa7-b5e3-e8e7f6bb1342",
   "metadata": {},
   "outputs": [
    {
     "data": {
      "text/html": [
       "<div>\n",
       "<style scoped>\n",
       "    .dataframe tbody tr th:only-of-type {\n",
       "        vertical-align: middle;\n",
       "    }\n",
       "\n",
       "    .dataframe tbody tr th {\n",
       "        vertical-align: top;\n",
       "    }\n",
       "\n",
       "    .dataframe thead th {\n",
       "        text-align: right;\n",
       "    }\n",
       "</style>\n",
       "<table border=\"1\" class=\"dataframe\">\n",
       "  <thead>\n",
       "    <tr style=\"text-align: right;\">\n",
       "      <th></th>\n",
       "      <th>longitude</th>\n",
       "      <th>latitude</th>\n",
       "      <th>housing_median_age</th>\n",
       "      <th>total_rooms</th>\n",
       "      <th>total_bedrooms</th>\n",
       "      <th>population</th>\n",
       "      <th>households</th>\n",
       "      <th>median_income</th>\n",
       "      <th>median_house_value</th>\n",
       "      <th>ocean_proximity</th>\n",
       "    </tr>\n",
       "  </thead>\n",
       "  <tbody>\n",
       "    <tr>\n",
       "      <th>0</th>\n",
       "      <td>-122.23</td>\n",
       "      <td>37.88</td>\n",
       "      <td>41.0</td>\n",
       "      <td>880.0</td>\n",
       "      <td>129.0</td>\n",
       "      <td>322.0</td>\n",
       "      <td>126.0</td>\n",
       "      <td>8.3252</td>\n",
       "      <td>452600.0</td>\n",
       "      <td>NEAR BAY</td>\n",
       "    </tr>\n",
       "    <tr>\n",
       "      <th>1</th>\n",
       "      <td>-122.22</td>\n",
       "      <td>37.86</td>\n",
       "      <td>21.0</td>\n",
       "      <td>7099.0</td>\n",
       "      <td>1106.0</td>\n",
       "      <td>2401.0</td>\n",
       "      <td>1138.0</td>\n",
       "      <td>8.3014</td>\n",
       "      <td>358500.0</td>\n",
       "      <td>NEAR BAY</td>\n",
       "    </tr>\n",
       "    <tr>\n",
       "      <th>2</th>\n",
       "      <td>-122.24</td>\n",
       "      <td>37.85</td>\n",
       "      <td>52.0</td>\n",
       "      <td>1467.0</td>\n",
       "      <td>190.0</td>\n",
       "      <td>496.0</td>\n",
       "      <td>177.0</td>\n",
       "      <td>7.2574</td>\n",
       "      <td>352100.0</td>\n",
       "      <td>NEAR BAY</td>\n",
       "    </tr>\n",
       "    <tr>\n",
       "      <th>3</th>\n",
       "      <td>-122.25</td>\n",
       "      <td>37.85</td>\n",
       "      <td>52.0</td>\n",
       "      <td>1274.0</td>\n",
       "      <td>235.0</td>\n",
       "      <td>558.0</td>\n",
       "      <td>219.0</td>\n",
       "      <td>5.6431</td>\n",
       "      <td>341300.0</td>\n",
       "      <td>NEAR BAY</td>\n",
       "    </tr>\n",
       "    <tr>\n",
       "      <th>4</th>\n",
       "      <td>-122.25</td>\n",
       "      <td>37.85</td>\n",
       "      <td>52.0</td>\n",
       "      <td>1627.0</td>\n",
       "      <td>280.0</td>\n",
       "      <td>565.0</td>\n",
       "      <td>259.0</td>\n",
       "      <td>3.8462</td>\n",
       "      <td>342200.0</td>\n",
       "      <td>NEAR BAY</td>\n",
       "    </tr>\n",
       "  </tbody>\n",
       "</table>\n",
       "</div>"
      ],
      "text/plain": [
       "   longitude  latitude  housing_median_age  total_rooms  total_bedrooms  \\\n",
       "0    -122.23     37.88                41.0        880.0           129.0   \n",
       "1    -122.22     37.86                21.0       7099.0          1106.0   \n",
       "2    -122.24     37.85                52.0       1467.0           190.0   \n",
       "3    -122.25     37.85                52.0       1274.0           235.0   \n",
       "4    -122.25     37.85                52.0       1627.0           280.0   \n",
       "\n",
       "   population  households  median_income  median_house_value ocean_proximity  \n",
       "0       322.0       126.0         8.3252            452600.0        NEAR BAY  \n",
       "1      2401.0      1138.0         8.3014            358500.0        NEAR BAY  \n",
       "2       496.0       177.0         7.2574            352100.0        NEAR BAY  \n",
       "3       558.0       219.0         5.6431            341300.0        NEAR BAY  \n",
       "4       565.0       259.0         3.8462            342200.0        NEAR BAY  "
      ]
     },
     "execution_count": 3,
     "metadata": {},
     "output_type": "execute_result"
    }
   ],
   "source": [
    "# Take a look at the data\n",
    "df.head()"
   ]
  },
  {
   "cell_type": "code",
   "execution_count": 4,
   "id": "83351a57-e8d1-4839-8346-348c0861b2ff",
   "metadata": {},
   "outputs": [],
   "source": [
    "# Select the features we'll use\n",
    "features = ['latitude',\n",
    "'longitude',\n",
    "'housing_median_age',\n",
    "'total_rooms',\n",
    "'total_bedrooms',\n",
    "'population',\n",
    "'households',\n",
    "'median_income',\n",
    "'median_house_value',\n",
    "'ocean_proximity']\n",
    "\n",
    "data = df[features] "
   ]
  },
  {
   "cell_type": "code",
   "execution_count": 5,
   "id": "a9e3c9ba-f22b-48b1-9991-3d9379698c70",
   "metadata": {},
   "outputs": [],
   "source": [
    "# Fill in missing values\n",
    "data = data.fillna(0)"
   ]
  },
  {
   "cell_type": "code",
   "execution_count": 6,
   "id": "283e9876-2635-40a8-9fa9-3397b1d29174",
   "metadata": {},
   "outputs": [],
   "source": [
    "# Feature engineering\n",
    "data[\"rooms_per_household\"] = data[\"total_rooms\"] / data[\"households\"]\n",
    "\n",
    "data[\"bedrooms_per_room\"] = data[\"total_bedrooms\"] / data[\"total_rooms\"]\n",
    "\n",
    "data[\"population_per_household\"] = data[\"population\"] / data[\"households\"]"
   ]
  },
  {
   "cell_type": "markdown",
   "id": "938447f5-2f73-4ba7-97ff-a49d0305de0a",
   "metadata": {},
   "source": [
    "## Question 1"
   ]
  },
  {
   "cell_type": "code",
   "execution_count": 7,
   "id": "9b1f848d-f1ef-4d49-9283-5abd9c51fb03",
   "metadata": {},
   "outputs": [
    {
     "data": {
      "text/plain": [
       "<1H OCEAN     9136\n",
       "INLAND        6551\n",
       "NEAR OCEAN    2658\n",
       "NEAR BAY      2290\n",
       "ISLAND           5\n",
       "Name: ocean_proximity, dtype: int64"
      ]
     },
     "execution_count": 7,
     "metadata": {},
     "output_type": "execute_result"
    }
   ],
   "source": [
    "data[\"ocean_proximity\"].value_counts()"
   ]
  },
  {
   "cell_type": "markdown",
   "id": "da39e293-dc3f-4ede-a213-341d2c3a8922",
   "metadata": {},
   "source": [
    "## Split the data"
   ]
  },
  {
   "cell_type": "code",
   "execution_count": 8,
   "id": "1ce71879-426b-4689-8ae2-1d32790f3797",
   "metadata": {},
   "outputs": [],
   "source": [
    "from sklearn.model_selection import train_test_split\n",
    "\n",
    "# Separate features and target variable\n",
    "X = data.drop(\"median_house_value\", axis = 1)\n",
    "y = data[\"median_house_value\"]\n",
    "\n",
    "# Split into train and test sets\n",
    "X_train, X_test, y_train, y_test = train_test_split(X, y, train_size = 0.6, random_state = 42)\n",
    "\n",
    "# Split the test set into validation and test sets\n",
    "X_val, X_test, y_val, y_test = train_test_split(X_test, y_test, train_size = 0.5, random_state = 42)"
   ]
  },
  {
   "cell_type": "markdown",
   "id": "0e6749f6-7752-4bc3-b2ff-619ae80d9c9e",
   "metadata": {},
   "source": [
    "## Question 2"
   ]
  },
  {
   "cell_type": "code",
   "execution_count": 9,
   "id": "b1bb327c-bf24-48a4-9763-4a8e5206dcdc",
   "metadata": {},
   "outputs": [
    {
     "data": {
      "image/png": "[encoded data removed]",
      "text/plain": [
       "<Figure size 432x288 with 2 Axes>"
      ]
     },
     "metadata": {
      "needs_background": "light"
     },
     "output_type": "display_data"
    }
   ],
   "source": [
    "# Create and display correlation matrix\n",
    "cm = X_train.corr()\n",
    "\n",
    "sns.heatmap(cm, annot = True, vmin = -1, vmax = 1)\n",
    "plt.show()"
   ]
  },
  {
   "cell_type": "code",
   "execution_count": 10,
   "id": "9cf732ca-10f7-43ee-afc6-06916066d66d",
   "metadata": {},
   "outputs": [
    {
     "name": "stdout",
     "output_type": "stream",
     "text": [
      "Correlation of total_bedrooms and households: 0.9820137336976861\n",
      "Correlation of total_bedrooms and total_rooms: 0.9282490672303043\n",
      "Correlation of population and households: 0.9051678652501864\n",
      "Correlation of population_per_household  and total_rooms: -0.02563100731308222\n"
     ]
    }
   ],
   "source": [
    "# Compare options\n",
    "print(\"Correlation of total_bedrooms and households:\", cm.loc[\"total_bedrooms\", \"households\"])\n",
    "print(\"Correlation of total_bedrooms and total_rooms:\", cm.loc[\"total_bedrooms\", \"total_rooms\"])\n",
    "print(\"Correlation of population and households:\", cm.loc[\"population\", \"households\"])\n",
    "print(\"Correlation of population_per_household  and total_rooms:\", cm.loc[\"population_per_household\", \"total_rooms\"])"
   ]
  },
  {
   "cell_type": "markdown",
   "id": "d039935e-915c-4d57-86b2-123f7afd0987",
   "metadata": {},
   "source": [
    "## Make `median_house_value` binary"
   ]
  },
  {
   "cell_type": "code",
   "execution_count": 11,
   "id": "79931be4-e9e0-402a-a694-929f153cfd3c",
   "metadata": {},
   "outputs": [],
   "source": [
    "y_binary_train = y_train.apply(lambda x : 1 if x > y_train.mean() else 0)\n",
    "y_binary_val = y_val.apply(lambda x : 1 if x > y_val.mean() else 0)\n",
    "y_binary_test = y_test.apply(lambda x : 1 if x > y_test.mean() else 0)"
   ]
  },
  {
   "cell_type": "markdown",
   "id": "0c899ae3-f5ed-4d3b-8b66-13a5eb35b22c",
   "metadata": {},
   "source": [
    "## Question 3"
   ]
  },
  {
   "cell_type": "code",
   "execution_count": 12,
   "id": "4e520502-dc53-48f2-9a94-f61b0da8fd10",
   "metadata": {},
   "outputs": [
    {
     "data": {
      "text/plain": [
       "0.1"
      ]
     },
     "execution_count": 12,
     "metadata": {},
     "output_type": "execute_result"
    }
   ],
   "source": [
    "from sklearn.metrics import mutual_info_score\n",
    "\n",
    "round(mutual_info_score(X_train[\"ocean_proximity\"], y_binary_train), 2)"
   ]
  },
  {
   "cell_type": "markdown",
   "id": "2448cc19-9f62-4bbb-a150-06f9e4582cfc",
   "metadata": {},
   "source": [
    "## Question 4"
   ]
  },
  {
   "cell_type": "code",
   "execution_count": 13,
   "id": "7ad50fe1-1ba2-4cc0-89d8-c194f70f6a7d",
   "metadata": {},
   "outputs": [],
   "source": [
    "# One-hot encode ocean_proximity variable for all sets\n",
    "for X in [X_train, X_val, X_test]:\n",
    "    op_dummy = pd.get_dummies(X[\"ocean_proximity\"])\n",
    "    X.drop(columns = \"ocean_proximity\", inplace = True)\n",
    "    X = pd.concat([X, op_dummy], axis = 0)"
   ]
  },
  {
   "cell_type": "code",
   "execution_count": 14,
   "id": "2568c7d5-d087-47f6-b9fa-a626d9589f29",
   "metadata": {},
   "outputs": [
    {
     "data": {
      "text/plain": [
       "0.81"
      ]
     },
     "execution_count": 14,
     "metadata": {},
     "output_type": "execute_result"
    }
   ],
   "source": [
    "from sklearn.linear_model import LogisticRegression\n",
    "\n",
    "lr = LogisticRegression(solver=\"liblinear\", C=1.0, max_iter=1000, random_state=42)\n",
    "\n",
    "lr.fit(X_train, y_binary_train)\n",
    "\n",
    "acc_score = round(lr.score(X_val, y_binary_val), 2)\n",
    "\n",
    "acc_score"
   ]
  },
  {
   "cell_type": "markdown",
   "id": "da6f157a-5597-4867-8fc9-782b6d9fbd98",
   "metadata": {},
   "source": [
    "## Question 5"
   ]
  },
  {
   "cell_type": "code",
   "execution_count": 15,
   "id": "53d68bc2-e0ca-474a-969d-b1068cf9b158",
   "metadata": {},
   "outputs": [],
   "source": [
    "features = list(X_train.columns)\n",
    "acc_scores = {}\n",
    "\n",
    "for feature in features:\n",
    "    current_features = [feat for feat in features if feat != feature]\n",
    "    \n",
    "    lr = LogisticRegression(solver=\"liblinear\", C=1.0, max_iter=1000, random_state=42)\n",
    "\n",
    "    lr.fit(X_train[current_features], y_binary_train)\n",
    "\n",
    "    acc_scores[feature] = lr.score(X_val[current_features], y_binary_val)\n",
    "    "
   ]
  },
  {
   "cell_type": "code",
   "execution_count": 16,
   "id": "729c3f8d-3c11-4454-8f6a-a23d52f32812",
   "metadata": {},
   "outputs": [
    {
     "data": {
      "text/plain": [
       "{'total_rooms': -0.0010465116279069209,\n",
       " 'total_bedrooms': -0.0010465116279069209,\n",
       " 'population': 0.0047674418604651825,\n",
       " 'households': 0.003071705426356597}"
      ]
     },
     "execution_count": 16,
     "metadata": {},
     "output_type": "execute_result"
    }
   ],
   "source": [
    "relevant_features = [\"total_rooms\", \"total_bedrooms\", \"population\", \"households\"]\n",
    "\n",
    "acc_scores_diffs = {key : acc_score - value for key, value in acc_scores.items() if key in relevant_features}\n",
    "acc_scores_diffs"
   ]
  },
  {
   "cell_type": "code",
   "execution_count": 17,
   "id": "074aa383-0db1-4a82-ba98-40d11e0283c9",
   "metadata": {},
   "outputs": [
    {
     "data": {
      "text/plain": [
       "'total_rooms'"
      ]
     },
     "execution_count": 17,
     "metadata": {},
     "output_type": "execute_result"
    }
   ],
   "source": [
    "min(acc_scores_diffs, key = lambda x : np.abs(acc_scores_diffs[x]))"
   ]
  },
  {
   "cell_type": "markdown",
   "id": "67b32dc0-ff68-45a2-bf38-de643147a6dd",
   "metadata": {},
   "source": [
    "## Question 6"
   ]
  },
  {
   "cell_type": "code",
   "execution_count": 18,
   "id": "671e741e-3f6a-4890-9c98-682fe5b3a3df",
   "metadata": {},
   "outputs": [],
   "source": [
    "log_target = data[\"median_house_value\"].apply(lambda x : np.log(x))"
   ]
  },
  {
   "cell_type": "code",
   "execution_count": 19,
   "id": "6b907704-73b6-48ef-9d25-19281d27cfae",
   "metadata": {},
   "outputs": [],
   "source": [
    "y_log_train = log_target.loc[y_train.index]\n",
    "y_log_val = log_target.loc[y_val.index]\n",
    "y_log_test = log_target.loc[y_test.index]"
   ]
  },
  {
   "cell_type": "code",
   "execution_count": 20,
   "id": "cf41526b-9094-48ad-bceb-22110a21fe97",
   "metadata": {},
   "outputs": [],
   "source": [
    "from sklearn.linear_model import Ridge\n",
    "from sklearn.metrics import mean_squared_error\n",
    "\n",
    "rmses = dict()\n",
    "\n",
    "for alpha in [0, 0.01, 0.1, 1, 10]:\n",
    "\n",
    "    rr = Ridge(alpha=alpha, solver=\"sag\", random_state=42)\n",
    "    rr.fit(X_train, y_log_train)\n",
    "    \n",
    "    predictions = rr.predict(X_val)\n",
    "    \n",
    "    rmses[alpha] = round(mean_squared_error(y_log_val, predictions, squared = False), 3)"
   ]
  },
  {
   "cell_type": "code",
   "execution_count": 21,
   "id": "33745ba3-1461-423a-9676-61533b5a1a0c",
   "metadata": {},
   "outputs": [
    {
     "data": {
      "text/plain": [
       "0"
      ]
     },
     "execution_count": 21,
     "metadata": {},
     "output_type": "execute_result"
    }
   ],
   "source": [
    "min(rmses, key = rmses.get)"
   ]
  }
 ],
 "metadata": {
  "kernelspec": {
   "display_name": "Python 3 (ipykernel)",
   "language": "python",
   "name": "python3"
  },
  "language_info": {
   "codemirror_mode": {
    "name": "ipython",
    "version": 3
   },
   "file_extension": ".py",
   "mimetype": "text/x-python",
   "name": "python",
   "nbconvert_exporter": "python",
   "pygments_lexer": "ipython3",
   "version": "3.9.7"
  }
 },
 "nbformat": 4,
 "nbformat_minor": 5
}
